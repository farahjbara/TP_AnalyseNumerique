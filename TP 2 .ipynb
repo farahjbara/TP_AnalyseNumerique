{
 "cells": [
  {
   "cell_type": "markdown",
   "metadata": {},
   "source": [
    "<hr>\n",
    "<div style=\"text-align: right\"> \n",
    "    <b style=\"color:green\" > 2 DNI 2</b>\n",
    "    <br>\n",
    "    <b style=\"color:green\" > 2021-2022 </b>\n",
    "</div>\n",
    "\n",
    "<div style=\"text-align:  left\"> \n",
    "    <i>\n",
    "        <b style=\"color:green\">ISITCOM </b>\n",
    "    </i>\n",
    "   \n",
    "</div>\n",
    "\n",
    "\n",
    "# <center > Compte rendu  </center>\n",
    "## <center style=\"color:red\">  TP 2 Interpolation Numérique </center>\n",
    "\n",
    "<hr>"
   ]
  },
  {
   "cell_type": "markdown",
   "metadata": {},
   "source": [
    "## <p style = \"color:#3635cd\"> Introduction </p>"
   ]
  },
  {
   "cell_type": "markdown",
   "metadata": {},
   "source": [
    " #### <p style=\"color:#888235\" >Principe de l'interpolation polynomiale:</p>\n",
    " En mathématiques, en analyse numérique, l'interpolation polynomiale est une technique d'interpolation d'un ensemble de données ou d'une fonction par un polynôme. En d'autres termes, étant donné un ensemble de points (obtenu, par exemple, à la suite d'une expérience), on cherche un polynôme qui passe par tous ces points, et éventuellement vérifie d'autres conditions, de degré si possible le plus bas."
   ]
  },
  {
   "cell_type": "markdown",
   "metadata": {},
   "source": [
    " #### <p style=\"color:#888235\" >Principe de l'interpolation de Lagrange:</p>\n",
    " Le polynôme d’interpolation de Lagrange P(x) est le polynôme unique d’ordre n, qui\n",
    " passe exactement par ces (n+1) points,il permettent d'interpoler une série de points par un polynôme\n",
    " \n",
    " $$ \\circ \\hspace{0.5cm}  P(x)=\\sum_{i=0} f(xi)Li(x) $$\n",
    " >avec\n",
    " $$ \\circ \\hspace{0.5cm}  Li(x)=\\prod _{k=0 k\\neq {i}}  (x-xk)/(xi-xk) $$"
   ]
  },
  {
   "cell_type": "markdown",
   "metadata": {},
   "source": [
    " #### <p style=\"color:#888235\" >Principe de phénomène de Runge:</p>\n",
    " Dans le domaine mathématique de l'analyse numérique, le phénomène de Runge se manifeste dans le contexte de l'interpolation polynomiale, en particulier l'interpolation de Lagrange. Avec certaines fonctions (même analytiques), l'augmentation du nombre n de points d'interpolation ne constitue pas nécessairement une bonne stratégie d'approximation."
   ]
  },
  {
   "cell_type": "markdown",
   "metadata": {},
   "source": [
    " #### <p style=\"color:#888235\" >Principe de polynome de Newton:</p>\n",
    "  l'interpolation newtonienne, est une méthode d'interpolation polynomiale permettant d'obtenir le polynôme de Lagrange comme combinaison linéaire de polynômes de la « base newtonienne ».\n",
    "\n",
    "\n",
    "l'interpolation polynomiale dans une base de Newton est une combinaison linéaire de polynômes appartenant à cette base\n",
    "  \n",
    " $$N(x)=\\sum_{j=0}^ka_jn_j(x)$$\n",
    "\n",
    ">avec les polynômes de Newton définis de la manière suivante:\n",
    "$$n_j(x)=\\prod_{0\\le i<j}(x-x_i)\\qquad j=0,\\ldots,k $$\n",
    "(en particulier $n_0=1$, le [produit vide])\n",
    "\n",
    ">et les coefficients égaux aux [différences divisées] :\n",
    "$$a_j=[y_0,\\ldots,y_j].$$\n",
    "\n",
    "En résumé :\n",
    ">énoncé:\n",
    ">Le polynôme d'interpolation de Newton $N(x)$ associé à $k+1$ points $(x_0, y_0),\\ldots,(x_k, y_k)$ est défini par :\n",
    "<center>$$N(x)=[y_0]+[y_0,y_1](x-x_0)+\\ldots+[y_0,\\ldots,y_k](x-x_0)\\ldots(x-x_{k-1}).$$</center>\n",
    "\n",
    "\n",
    "  "
   ]
  },
  {
   "cell_type": "markdown",
   "metadata": {},
   "source": [
    "## <p style = \"color:#3635cd\">  </p>"
   ]
  },
  {
   "cell_type": "markdown",
   "metadata": {},
   "source": [
    "## <p style=\"color:#cd3580\"> Exercice 1 :</p>"
   ]
  },
  {
   "cell_type": "markdown",
   "metadata": {},
   "source": [
    "On considère le programme MATLAB suivant :\n",
    "``` octave\n",
    "function u=prog(x,y,c)\n",
    "S = y; \n",
    "n = length(x); \n",
    "for j=1:n\n",
    "    L = c-x; \n",
    "    for k=1:n\n",
    "        if (k == j)\n",
    "           L(k) = 1;\n",
    "        else\n",
    "           L(k) = L(k)/(x(j) - x(k));\n",
    "        end \n",
    "    end \n",
    "    S(j) = S(j)*prod(L); \n",
    "end \n",
    "u=sum(S); \n",
    "```"
   ]
  },
  {
   "cell_type": "markdown",
   "metadata": {},
   "source": [
    "1) Que renvoie la fonction PR lorsqu'on lui déclare  x=(x(1),x(2),...,x(n))x=(x(1),x(2),...,x(n))  et  y=(y(1),y(2),...,y(n))y=(y(1),y(2),...,y(n))  deux vecteurs de même longueur  nn  et  cc  un nombre réel.\n",
    "\n",
    "2) Que contient le vecteur  LL  après la fin de la boucle  kk .\n",
    "\n",
    "3) Utiliser cette fonction pour dessiner le graph du polynôme de Lagrange  de la fonction $f(x) = \\dfrac{1}{1 + x^2}$ aux points $x=[-1:0.1:1]$.\n",
    "\n",
    "4) On considère la fonction $F$ suivante :\n",
    "$$\n",
    "F(h) = \\pi -\\cos \\left(\\frac{h}{2}\\right) + h \\sqrt{1-\\left(\\frac{h}{2}\\right)^2}, \\qquad\n",
    "h\\in [0,2],\n",
    "$$\n",
    "et les points d'interpolation $x_i = ih$, $0\\leq i\\leq n$, avec $ n=20$ et $h=0.1$.\n",
    "\n",
    "4.1) Représenter sur un même graphe la fonction $F$ et $p_n$, où\n",
    " $p_n$ est le polynôme d'interpolation de Lagrange de $F$ aux\n",
    " points $x_0,\\,\\ldots,\\,x_n$.\n",
    "\n",
    "4.2)Tracer la courbe d'erreur  (la\n",
    " fonction $F-p_n$). Qu'observer vous."
   ]
  },
  {
   "cell_type": "markdown",
   "metadata": {},
   "source": [
    "\n",
    "## <p style =\"color:red\" >Correction </p>"
   ]
  },
  {
   "cell_type": "markdown",
   "metadata": {},
   "source": [
    "## Version Python"
   ]
  },
  {
   "cell_type": "code",
   "execution_count": 4,
   "metadata": {},
   "outputs": [],
   "source": [
    "from numpy import prod\n",
    "def PR (x,y,c):\n",
    "    s=[]\n",
    "    n=len(x)\n",
    "    for j in range(n):\n",
    "        l=[c-t for t in x]\n",
    "        for k in range (n):\n",
    "            if k==j:\n",
    "                l[k]=1\n",
    "            else:\n",
    "                 l[k]=l[k]/(x[j]-x[k])\n",
    "        s.append(y[j]*prod(l))\n",
    "    return sum(s) "
   ]
  },
  {
   "cell_type": "code",
   "execution_count": 5,
   "metadata": {},
   "outputs": [
    {
     "data": {
      "text/plain": [
       "2.0"
      ]
     },
     "execution_count": 5,
     "metadata": {},
     "output_type": "execute_result"
    }
   ],
   "source": [
    "x=[1,2,3,4]\n",
    "y=[-1,0,2,1]\n",
    "c=3\n",
    "PR(x,y,c)\n",
    "#for t in x:\n",
    " #   print(PR(x,y,t))"
   ]
  },
  {
   "cell_type": "code",
   "execution_count": 6,
   "metadata": {},
   "outputs": [
    {
     "name": "stdout",
     "output_type": "stream",
     "text": [
      "-1.0\n",
      "0.0\n",
      "2.0\n",
      "1.0\n"
     ]
    },
    {
     "data": {
      "text/plain": [
       "10"
      ]
     },
     "execution_count": 6,
     "metadata": {},
     "output_type": "execute_result"
    }
   ],
   "source": [
    "x=[1,2,3,4]\n",
    "y=[-1,0,2,1]\n",
    "for t in x :\n",
    "    print (PR(x,y,t))\n",
    "sum(x)"
   ]
  },
  {
   "cell_type": "markdown",
   "metadata": {},
   "source": [
    "<strong> 3) </strong> Utiliser cette fonction pour dessiner le graph du polynôme de Lagrange  de la fonction $f(x) = \\dfrac{1}{1 + x^2}$ aux points $x=[-1:0.1:1]$."
   ]
  },
  {
   "cell_type": "markdown",
   "metadata": {},
   "source": [
    "## Version Python"
   ]
  },
  {
   "cell_type": "code",
   "execution_count": 7,
   "metadata": {},
   "outputs": [
    {
     "data": {
      "image/png": "[encoded data removed]",
      "text/plain": [
       "<Figure size 432x288 with 1 Axes>"
      ]
     },
     "metadata": {
      "needs_background": "light"
     },
     "output_type": "display_data"
    }
   ],
   "source": [
    "import matplotlib.pyplot as plt\n",
    "import numpy as np\n",
    "x=np.linspace(-1, 1, 20)\n",
    "f = lambda x:  1/(1+x**2)\n",
    "y = f(x)\n",
    "t=np.linspace(-1, 1, 20)\n",
    "pn=[]\n",
    "for u in t:\n",
    "    pn.append(PR(x,y,u))\n",
    "plt.plot(t,pn,'r',x,y,'bo',t,f(t),'g')\n",
    "plt.grid(True)   \n",
    "plt.show()"
   ]
  },
  {
   "cell_type": "markdown",
   "metadata": {},
   "source": [
    "<strong> 4) </strong> On considère la fonction $F$ suivante :\n",
    "$$\n",
    "F(h) = \\pi -\\cos \\left(\\frac{h}{2}\\right) + h \\sqrt{1-\\left(\\frac{h}{2}\\right)^2}, \\qquad\n",
    "h\\in [0,2],\n",
    "$$\n",
    "et les points d'interpolation $x_i = ih$, $0\\leq i\\leq n$, avec $ n=20$ et $h=0.1$."
   ]
  },
  {
   "cell_type": "markdown",
   "metadata": {},
   "source": [
    "<strong> 4.1)</strong> Représenter sur un même graphe la fonction $F$ et $p_n$, où\n",
    " $p_n$ est le polynôme d'interpolation de Lagrange de $F$ aux\n",
    " points $x_0,\\,\\ldots,\\,x_n$."
   ]
  },
  {
   "cell_type": "markdown",
   "metadata": {},
   "source": [
    "## Version Python"
   ]
  },
  {
   "cell_type": "code",
   "execution_count": 8,
   "metadata": {},
   "outputs": [
    {
     "data": {
      "image/png": "[encoded data removed]",
      "text/plain": [
       "<Figure size 432x288 with 1 Axes>"
      ]
     },
     "metadata": {
      "needs_background": "light"
     },
     "output_type": "display_data"
    }
   ],
   "source": [
    "import matplotlib.pyplot as plt\n",
    "import numpy as np\n",
    "x=np.linspace(0, 2, 20)\n",
    "f = lambda x:  np.pi-np.cos(x/2)+x*np.sqrt(1-(x/2)**2)\n",
    "y = f(x)\n",
    "t=np.linspace(0, 2, 20)\n",
    "pn=[]\n",
    "for u in t:\n",
    "    pn.append(PR(x,y,u))\n",
    "plt.plot(t,pn,'r',x,y,'bo',t,f(t),'g')\n",
    "plt.grid(True)   \n",
    "plt.show()"
   ]
  },
  {
   "cell_type": "markdown",
   "metadata": {},
   "source": [
    "<strong>4.2)</strong>Tracer la courbe d'erreur  (la\n",
    " fonction $F-p_n$). Qu'observer vous."
   ]
  },
  {
   "cell_type": "markdown",
   "metadata": {},
   "source": [
    "## Version Python"
   ]
  },
  {
   "cell_type": "code",
   "execution_count": 9,
   "metadata": {},
   "outputs": [
    {
     "data": {
      "image/png": "[encoded data removed]",
      "text/plain": [
       "<Figure size 432x288 with 1 Axes>"
      ]
     },
     "metadata": {
      "needs_background": "light"
     },
     "output_type": "display_data"
    }
   ],
   "source": [
    "import matplotlib.pyplot as plt\n",
    "import numpy as np\n",
    "x=np.linspace(-2, 0, 100)\n",
    "f = lambda x:  np.pi-np.cos(x/2)+x*np.sqrt(1-(x/2)**2)\n",
    "y = f(x)\n",
    "t=np.linspace(-2, 0, 100)\n",
    "pn=[]\n",
    "for u in t:\n",
    "    pn.append(PR(x,y,u))\n",
    "plt.plot(t,pn,'r',x,y,'bo',t,f(t),'g')\n",
    "plt.grid(True)   \n",
    "plt.show()"
   ]
  },
  {
   "cell_type": "markdown",
   "metadata": {},
   "source": [
    "## <a style=\"color:#028A93;text-decoration: underline;\" > Conclusion :</a>\n",
    "L'un des défauts de la méthode de lagrange c'est qu'on doit repondre tout le travail fait deja lors de l'interpolation d'une fonction f au points distincts 2 a 2 ($ x_0,x_1,....,x_n $) lorsqu'on ajoute un nouveau point $x_k$ avec k=n+1 , ce qui nécessite du temps a faire .\n",
    "Pour cela on a recours a la méthode de newton ou des differences divisées."
   ]
  },
  {
   "cell_type": "markdown",
   "metadata": {},
   "source": [
    "## <p style=\"color:#cd3580\"> Exercice 2  ( Phenomène de Runge ):</p>"
   ]
  },
  {
   "cell_type": "markdown",
   "metadata": {},
   "source": [
    "\n",
    "## <p style =\"color:red\" >Correction </p>"
   ]
  },
  {
   "cell_type": "markdown",
   "metadata": {},
   "source": [
    "## 1)  \n",
    "  Vérifier que sur $[-5,5]$ le polynôme d'interpolation de Lagrange\n",
    "  de la fonction $f$ définie par $f(x)=\\displaystyle{\\frac{1}{1+x^2}}$,\n",
    "en $N$ points uniformément espacés ne convergent pas correctement aux voisinages de $-1$ et $1$, pour $N=7,8,9,10 ...$"
   ]
  },
  {
   "cell_type": "markdown",
   "metadata": {},
   "source": [
    "## Version Python"
   ]
  },
  {
   "cell_type": "code",
   "execution_count": 10,
   "metadata": {},
   "outputs": [
    {
     "data": {
      "image/png": "[encoded data removed]",
      "text/plain": [
       "<Figure size 432x288 with 1 Axes>"
      ]
     },
     "metadata": {
      "needs_background": "light"
     },
     "output_type": "display_data"
    },
    {
     "data": {
      "image/png": "[encoded data removed]",
      "text/plain": [
       "<Figure size 432x288 with 1 Axes>"
      ]
     },
     "metadata": {
      "needs_background": "light"
     },
     "output_type": "display_data"
    },
    {
     "data": {
      "image/png": "[encoded data removed]",
      "text/plain": [
       "<Figure size 432x288 with 1 Axes>"
      ]
     },
     "metadata": {
      "needs_background": "light"
     },
     "output_type": "display_data"
    },
    {
     "data": {
      "image/png": "[encoded data removed]",
      "text/plain": [
       "<Figure size 432x288 with 1 Axes>"
      ]
     },
     "metadata": {
      "needs_background": "light"
     },
     "output_type": "display_data"
    }
   ],
   "source": [
    "import matplotlib.pyplot as plt\n",
    "import numpy as np\n",
    "N = 7\n",
    "X=np.linspace(-5, 5, N)\n",
    "f = lambda x:  1./(1 + x**2)\n",
    "Y = f(X)\n",
    "p = np.polyfit(X, Y, N - 1)\n",
    "t = np.linspace(-5, 5, 1000)\n",
    "plt.subplot(2, 2, 1)\n",
    "plt.plot(t,f(t),'r',X,Y,'ob', t, np.polyval(p,t),'g')\n",
    "plt.title('Interpolation Equidistante avec N=7')\n",
    "plt.grid(True)   \n",
    "plt.show()\n",
    "#######################################################\n",
    "import matplotlib.pyplot as plt\n",
    "import numpy as np\n",
    "N = 8\n",
    "X=np.linspace(-5, 5, N)\n",
    "f = lambda x:  1./(1 + x**2)\n",
    "Y = f(X)\n",
    "p = np.polyfit(X, Y, N - 1)\n",
    "t = np.linspace(-5, 5, 1000)\n",
    "plt.subplot(2, 2, 2)\n",
    "plt.plot(t,f(t),'r',X,Y,'ob', t, np.polyval(p,t),'g')\n",
    "plt.title('Interpolation Equidistante avec N=8')\n",
    "plt.grid(True)   \n",
    "plt.show()\n",
    "#######################################################\n",
    "import matplotlib.pyplot as plt\n",
    "import numpy as np\n",
    "N = 9\n",
    "X=np.linspace(-5, 5, N)\n",
    "f = lambda x:  1./(1 + x**2)\n",
    "Y = f(X)\n",
    "p = np.polyfit(X, Y, N - 1)\n",
    "t = np.linspace(-5, 5, 1000)\n",
    "plt.subplot(2, 2, 3)\n",
    "plt.plot(t,f(t),'r',X,Y,'ob', t, np.polyval(p,t),'g')\n",
    "plt.title('Interpolation Equidistante avec N=9')\n",
    "plt.grid(True)   \n",
    "plt.show()\n",
    "#######################################################\n",
    "import matplotlib.pyplot as plt\n",
    "import numpy as np\n",
    "N = 10\n",
    "X=np.linspace(-5, 5, N)\n",
    "f = lambda x:  1./(1 + x**2)\n",
    "Y = f(X)\n",
    "p = np.polyfit(X, Y, N - 1)\n",
    "t = np.linspace(-5, 5, 1000)\n",
    "plt.subplot(2, 2, 4)\n",
    "plt.plot(t,f(t),'r',X,Y,'ob', t, np.polyval(p,t),'g')\n",
    "plt.title('Interpolation Equidistante avec N=10')\n",
    "plt.grid(True)   \n",
    "plt.show()"
   ]
  },
  {
   "cell_type": "markdown",
   "metadata": {},
   "source": [
    "## <p style=\"color:red\">Remarque:</p>\n",
    "On remarque que le polynôme d'interpolation de Lagrange de la fonction f ne convergent pas correctement aux voisinages de -1 et 1 aux differents points d'itérations."
   ]
  },
  {
   "cell_type": "markdown",
   "metadata": {},
   "source": [
    "## 2) \n",
    "Les points de Tchebycheff sur un intervalle $[a;b]$ sont définie par :\n",
    "  $$x_k=\\dfrac{a+b}{2}+\\dfrac{a-b}{2}\\cos\\left(\\frac{k-1}{n-1}\\pi\\right)\\hspace{0.5cm} (k=1,..,n: x_1=a:x_n=b)$$\n",
    "\n",
    "  Vérifier que sur $[-5; 5]$ ; l'interpolation polynômiale de $f(x) = \\dfrac{1}{1 + x^2}$ ; en $N$ points de Tchebychev\n",
    "est meilleure qu'une  interpolation utilisant $N$ points uniforment espacés (on prendra $N=10, 11, 16, 17$)."
   ]
  },
  {
   "cell_type": "markdown",
   "metadata": {},
   "source": [
    "## Version Python"
   ]
  },
  {
   "cell_type": "code",
   "execution_count": 11,
   "metadata": {},
   "outputs": [
    {
     "data": {
      "image/png": "[encoded data removed]",
      "text/plain": [
       "<Figure size 432x288 with 1 Axes>"
      ]
     },
     "metadata": {
      "needs_background": "light"
     },
     "output_type": "display_data"
    },
    {
     "data": {
      "image/png": "[encoded data removed]",
      "text/plain": [
       "<Figure size 432x288 with 1 Axes>"
      ]
     },
     "metadata": {
      "needs_background": "light"
     },
     "output_type": "display_data"
    },
    {
     "data": {
      "image/png": "[encoded data removed]",
      "text/plain": [
       "<Figure size 432x288 with 1 Axes>"
      ]
     },
     "metadata": {
      "needs_background": "light"
     },
     "output_type": "display_data"
    },
    {
     "data": {
      "image/png": "[encoded data removed]",
      "text/plain": [
       "<Figure size 432x288 with 1 Axes>"
      ]
     },
     "metadata": {
      "needs_background": "light"
     },
     "output_type": "display_data"
    }
   ],
   "source": [
    "import matplotlib.pyplot as plt\n",
    "import numpy as np\n",
    "N = 10\n",
    "f = lambda x:  1./(1 + x**2)\n",
    "Xt=np.polynomial.chebyshev.Chebyshev(np.array([0]*10+[1])).roots()\n",
    "Yt = f(Xt)\n",
    "pt = np.polyfit(Xt, Yt, N - 1 )\n",
    "t = np.linspace(-5, 5, 1000)\n",
    "plt.subplot(2, 2, 1)\n",
    "plt.plot(t,f(t),'r',Xt,Yt,'ob', t, np.polyval(p,t),'g')\n",
    "plt.title('Interpolation Tchebycheff avec N=10')\n",
    "plt.grid(True)   \n",
    "plt.show()\n",
    "###################################################################\n",
    "import matplotlib.pyplot as plt\n",
    "import numpy as np\n",
    "N = 11\n",
    "f = lambda x:  1./(1 + x**2)\n",
    "Xt=np.polynomial.chebyshev.Chebyshev(np.array([0]*11+[1])).roots()\n",
    "Yt = f(Xt)\n",
    "pt = np.polyfit(Xt, Yt, N - 1)\n",
    "t = np.linspace(-5, 5, 1000)\n",
    "plt.subplot(2, 2, 2)\n",
    "plt.plot(t,f(t),'r',Xt,Yt,'ob', t, np.polyval(p,t),'g')\n",
    "plt.title('Interpolation Tchebycheff avec N=11')\n",
    "plt.grid(True)   \n",
    "plt.show()\n",
    "##################################################################\n",
    "import matplotlib.pyplot as plt\n",
    "import numpy as np\n",
    "N = 16\n",
    "f = lambda x:  1./(1 + x**2)\n",
    "Xt=np.polynomial.chebyshev.Chebyshev(np.array([0]*16+[1])).roots()\n",
    "Yt = f(Xt)\n",
    "pt = np.polyfit(Xt, Yt, N - 1)\n",
    "t = np.linspace(-5, 5, 1000)\n",
    "plt.subplot(2, 2, 3)\n",
    "plt.plot(t,f(t),'r',Xt,Yt,'ob', t, np.polyval(p,t),'g')\n",
    "plt.title('Interpolation Tchebycheff avec N=16')\n",
    "plt.grid(True)   \n",
    "plt.show()\n",
    "##################################################################\n",
    "import matplotlib.pyplot as plt\n",
    "import numpy as np\n",
    "N = 17\n",
    "f = lambda x:  1./(1 + x**2)\n",
    "Xt=np.polynomial.chebyshev.Chebyshev(np.array([0]*17+[1])).roots()\n",
    "Yt = f(Xt)\n",
    "pt = np.polyfit(Xt, Yt, N - 1)\n",
    "t = np.linspace(-5, 5, 1000)\n",
    "plt.subplot(2, 2, 4)\n",
    "plt.plot(t,f(t),'r',Xt,Yt,'ob', t, np.polyval(p,t),'g')\n",
    "plt.title('Interpolation Tchebycheff avec N=17')\n",
    "plt.grid(True)   \n",
    "plt.show()"
   ]
  },
  {
   "cell_type": "markdown",
   "metadata": {},
   "source": [
    "## <p style=\"color:red\">Remarque:</p>\n",
    "<strong> Le phenomene de Runge </strong>peut etre considerablement attenue en choisissant judicieusement les points\n",
    "d’´evaluation. En particulier, on peut d´emontrer qu’en choisissant les racines des polynomes de\n",
    "Chebyshev (Tchebychev) comme points d’´evaluation, on minimise les ecarts entre la fonction\n",
    "interpolee et le polynome d’interpolation.\n",
    "On remarque que lee phénomène de non-convergence des polynômes d'interpolation converge vers la fonction le phénomène de Runge.\n"
   ]
  },
  {
   "cell_type": "markdown",
   "metadata": {},
   "source": [
    "## <p style=\"color:#cd3580\"> Exercice 3 :</p>"
   ]
  },
  {
   "cell_type": "markdown",
   "metadata": {},
   "source": [
    "On considère les deux programme MATLAB suivant :\n",
    "``` octave\n",
    "function f=intN(x,f)% RECURSIVE\n",
    "m=length(x);\n",
    "for k=2:m;\n",
    "    f(k:m)=(f(k:m)-f(k-1:m-1))./(x(k:m)-x(1:m+1-k))\n",
    "end\n",
    "``` \n",
    "``` octave\n",
    "function p=intNval(x,c,t)\n",
    "m=length(x);\n",
    "p=c(m)*ones(size(t));\n",
    "for k=m-1:-1:1;\n",
    "    p=p.*(t-x(k))+c(k);\n",
    "end\n",
    "```"
   ]
  },
  {
   "cell_type": "markdown",
   "metadata": {},
   "source": [
    "1) Déterminer en utilisant les deux codes puis par un calcul à la main le polynôme de Newton pour les données suivantes :\n",
    "\n",
    "\n",
    "<center>\n",
    "<table>    \n",
    "      $\\begin{array}{|c|c|c|}\n",
    "   \\hline\n",
    "   i & x_i  & y_i \\\\\n",
    "   \\hline\n",
    "   0 &   -1  &   6 \\\\\n",
    "   1 &   0 &  1 \\\\\n",
    "   2 &  2  &  3 \\\\\n",
    "   3 &  5  &  66 \\\\\n",
    "   \\hline\n",
    "\\end{array}$  \n",
    "</table>\n",
    "</center>\n",
    "\n",
    "2) Donner le Graph du polynôme trouvé en 1) dans l'intervalle $[-1;5]$.\n",
    "\n",
    "3) Calculer $P(1)$ en utilisant le polynôme trouvé en 1).\n",
    "\n",
    "4) Recalculer à la main et puis à l'aide du Programme neville la valeur de $P(1)$."
   ]
  },
  {
   "cell_type": "markdown",
   "metadata": {},
   "source": [
    "\n",
    "## <p style =\"color:red\" >Correction </p>"
   ]
  },
  {
   "cell_type": "markdown",
   "metadata": {},
   "source": [
    "## 1) \n",
    "Déterminer en utilisant les deux codes puis par un calcul à la main le polynôme de Newton pour les données suivantes :\n",
    "\n",
    "\n",
    "<center>\n",
    "<table>    \n",
    "      $\\begin{array}{|c|c|c|}\n",
    "   \\hline\n",
    "   i & x_i  & y_i \\\\\n",
    "   \\hline\n",
    "   0 &   -1  &   6 \\\\\n",
    "   1 &   0 &  1 \\\\\n",
    "   2 &  2  &  3 \\\\\n",
    "   3 &  5  &  66 \\\\\n",
    "   \\hline\n",
    "\\end{array}$  \n",
    "</table>\n",
    "</center>"
   ]
  },
  {
   "cell_type": "markdown",
   "metadata": {},
   "source": [
    "## Version Python"
   ]
  },
  {
   "cell_type": "code",
   "execution_count": 12,
   "metadata": {},
   "outputs": [],
   "source": [
    "import matplotlib.pyplot as plt\n",
    "import numpy as np\n",
    "x=np.linspace(-10,10,100)\n",
    "y=np.linspace(-10,10,100)   \n",
    "X,Y = np.meshgrid(x, y)\n",
    "def f(X, Y):\n",
    "    m=len(X)\n",
    "    for k in range (2,m):\n",
    "        f=(Y(k,m)-Y(k-1,m-1))/(X(k,m)-X(1,m+1-k)) "
   ]
  },
  {
   "cell_type": "code",
   "execution_count": 13,
   "metadata": {},
   "outputs": [],
   "source": [
    "#x=[-1,0,2,5]\n",
    "#y=[6,1,3,66]\n",
    "#f(X,Y)"
   ]
  },
  {
   "cell_type": "code",
   "execution_count": 14,
   "metadata": {},
   "outputs": [],
   "source": [
    "import matplotlib.pyplot as plt\n",
    "import numpy as np\n",
    "x=np.linspace(-10,10,100)\n",
    "y=np.linspace(-10,10,100) \n",
    "t=np.linspace(-10,10,100) \n",
    "m=len(x)\n",
    "def p(x,y,z):\n",
    "    return y(m)*ones(size(t))\n",
    "x, y, t = np.mgrid[-1:1:100j, -1:1:100j, -1:1:100j]"
   ]
  },
  {
   "cell_type": "markdown",
   "metadata": {},
   "source": [
    "<strong> 2) </strong> Donner le Graph du polynôme trouvé en 1) dans l'intervalle $[-1;5]$."
   ]
  },
  {
   "cell_type": "markdown",
   "metadata": {},
   "source": [
    "## Version Python"
   ]
  },
  {
   "cell_type": "code",
   "execution_count": 15,
   "metadata": {},
   "outputs": [
    {
     "data": {
      "image/png": "[encoded data removed]",
      "text/plain": [
       "<Figure size 432x288 with 1 Axes>"
      ]
     },
     "metadata": {
      "needs_background": "light"
     },
     "output_type": "display_data"
    }
   ],
   "source": [
    "import math\n",
    "import matplotlib.pyplot as plt\n",
    "import numpy as np\n",
    "x=[-1,0,2,5]\n",
    "y=[6,1,3,66]\n",
    "plt.plot(x, y)\n",
    "plt.axis([-1., 5., -20., 80.])\n",
    "plt.grid()\n",
    "plt.show()"
   ]
  },
  {
   "cell_type": "markdown",
   "metadata": {},
   "source": [
    "<strong> 3) </strong> Calculer $P(1)$ en utilisant le polynôme trouvé en 1)."
   ]
  },
  {
   "cell_type": "markdown",
   "metadata": {},
   "source": [
    "## Version Python"
   ]
  },
  {
   "cell_type": "code",
   "execution_count": 13,
   "metadata": {},
   "outputs": [
    {
     "data": {
      "image/png": "[encoded data removed]",
      "text/plain": [
       "<Figure size 432x288 with 1 Axes>"
      ]
     },
     "metadata": {
      "needs_background": "light"
     },
     "output_type": "display_data"
    }
   ],
   "source": [
    "import math\n",
    "import matplotlib.pyplot as plt\n",
    "import numpy as np\n",
    "x=[-1,0,2,5]\n",
    "y=[6,1,3,66]\n",
    "t=[0,1,2,3]\n",
    "plt.plot(x, y,'g', t,'r')\n",
    "plt.axis([-1., 5., -20., 80.])\n",
    "plt.grid()\n",
    "plt.show()"
   ]
  },
  {
   "cell_type": "markdown",
   "metadata": {},
   "source": [
    "## <a style=\"color:#028A93;text-decoration: underline;\" > Commentaires :</a>"
   ]
  },
  {
   "cell_type": "markdown",
   "metadata": {},
   "source": [
    "\n",
    ">Le polynôme d'interpolation de Newton $N(x)$ associé à $k+1$ points $(x_0, y_0),\\ldots,(x_k, y_k)$ est défini par :\n",
    "<center>$$N(x)=[y_0]+[y_0,y_1](x-x_0)+\\ldots+[y_0,\\ldots,y_k](x-x_0)\\ldots(x-x_{k-1}).$$</center>\n"
   ]
  },
  {
   "cell_type": "markdown",
   "metadata": {},
   "source": [
    "## <a style=\"color:red;text-decoration: underline;\" > Conclusion Génerale :</a>"
   ]
  },
  {
   "cell_type": "markdown",
   "metadata": {},
   "source": [
    "<strong> la méthode de Newton </strong> est, dans son application la plus simple, un algorithme efficace pour trouver numériquement une approximation précise d'un zéro (ou racine) d'une fonction réelle d'une variable réelle."
   ]
  },
  {
   "cell_type": "markdown",
   "metadata": {},
   "source": [
    "La méthode de Newton est probablement l’une des méthodes les plus utilisées en calcul numérique. Ces intérêts sont très nombreux. On peut par exemple l’utiliser pour trouver des optimums locaux (dans le cas des racines d’une dérivée) ou pour approcher des nombres comme $\\sqrt{2}$ qui n’ont pas de représentation numérique exacte en machine."
   ]
  },
  {
   "cell_type": "code",
   "execution_count": null,
   "metadata": {},
   "outputs": [],
   "source": []
  }
 ],
 "metadata": {
  "kernelspec": {
   "display_name": "Python 3",
   "language": "python",
   "name": "python3"
  },
  "language_info": {
   "codemirror_mode": {
    "name": "ipython",
    "version": 3
   },
   "file_extension": ".py",
   "mimetype": "text/x-python",
   "name": "python",
   "nbconvert_exporter": "python",
   "pygments_lexer": "ipython3",
   "version": "3.8.8"
  }
 },
 "nbformat": 4,
 "nbformat_minor": 4
}
